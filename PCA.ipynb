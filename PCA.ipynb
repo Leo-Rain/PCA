{
 "cells": [
  {
   "cell_type": "markdown",
   "metadata": {},
   "source": [
    "# PCA processing\n",
    "\n",
    "Sources\n",
    "\n",
    "https://scikit-learn.org/stable/auto_examples/cross_decomposition/plot_pcr_vs_pls.html#\n",
    "\n",
    "https://jakevdp.github.io/PythonDataScienceHandbook/05.09-principal-component-analysis.html\n",
    "\n",
    "Steps of calculating PCA: \n",
    "\n",
    "1. Subtract the mean of each value;\n",
    "2. Calculate the Covariance Matrix: The covariance matrix is a square matrix donoting the covariance of elements with each other. The covariance of an element with itself is nothing but just its variance;\n",
    "3. Compute the eigenvalues and eigenvectors:\n",
    "\n",
    "    3.1 The eigenvectors of the covariance matrix we get are orthononal to each other and each vector represents a principle axis;    \n",
    "    3.2 A higher eigenvalue corresponds to a higher variability. Hence the principal axis with the higher eigenvalue will be an axis captuting higher variability in the data;    \n",
    "    3.3 Orthogonal means the vectors are mutually perpendicular to each other; \n",
    "    \n",
    "4. Sort eigenvalues in descending order:\n",
    "\n",
    "    4.1 Sort the eigenvalues in the descending order along with their corrsponding eigenvectors;    \n",
    "    4.2 Each column in the eigen vector-matrix corresponds to a principal compoment, so arranging them in desciending order of their eigenvalue will automatically arrange the principal component in desciending order of their variability;    \n",
    "    4.3 So the first column in the rearranged eigen vector-matrix will be a principle compionent that captures the highest variability.\n",
    "    \n",
    "5. Select a subset from the rearraged eigenvalue matrix\n",
    "\n",
    "6. Transform the data. Transform the data by having a dot product between the transpose of the eigenvector subset and the transpose of the mean-centered data. \n",
    "\n",
    "\n",
    "PC actually is the direction with variance scaled. Direction can be decided by the eigenvectors of covariance. Eigenvalue means "
   ]
  },
  {
   "cell_type": "code",
   "execution_count": 1,
   "metadata": {},
   "outputs": [],
   "source": [
    "# import numpy as np\n",
    "from hdf5storage import savemat\n",
    "from hdf5storage import loadmat\n",
    "import matplotlib\n",
    "import matplotlib.pyplot as plt\n",
    "import scipy.stats as stats\n",
    "import scipy.io as sio\n",
    "import pickle as pickle\n",
    "import numpy.matlib\n",
    "import numpy.ma as ma\n",
    "import numpy as np\n",
    "import glob\n",
    "import copy\n",
    "import matplotlib.gridspec as gridspec\n",
    "import matplotlib.mlab as mlab\n",
    "from fractions import Fraction\n",
    "from matplotlib.pyplot import cm\n",
    "import math\n",
    "import datetime\n",
    "import scipy.interpolate\n",
    "import os\n",
    "import shutil\n",
    "from mpl_toolkits.basemap import Basemap\n",
    "from numpy.linalg import inv\n",
    "from numpy import matmul\n",
    "import pandas as pd\n",
    "from datetime import datetime\n",
    "import matplotlib.dates as mdates\n",
    "%matplotlib inline\n",
    "gs3b3 = gridspec.GridSpec(3,3)\n",
    "gs1b3 = gridspec.GridSpec(1,3)\n",
    "gs2b2 = gridspec.GridSpec(2,2)\n",
    "gs1b1 = gridspec.GridSpec(1,1)\n",
    "gs1b2 = gridspec.GridSpec(1,2)\n",
    "gs2b1 = gridspec.GridSpec(2,1)\n",
    "gs3b1 = gridspec.GridSpec(3,1)\n",
    "cmap = matplotlib.cm.jet\n",
    "%matplotlib nbagg\n",
    "import warnings\n",
    "warnings.filterwarnings('ignore')\n",
    "import numpy as np\n",
    "import matplotlib.pyplot as plt\n",
    "from matplotlib.patches import Ellipse\n",
    "import matplotlib.transforms as transforms\n",
    "from sklearn.preprocessing import StandardScaler\n",
    "from sklearn.decomposition import PCA"
   ]
  },
  {
   "cell_type": "code",
   "execution_count": 3,
   "metadata": {},
   "outputs": [],
   "source": [
    "basedir='/Volumes/GoogleDrive/My Drive/Projects/EllipseAnalysis'\n",
    "datafolder='/Data/'\n",
    "savefigurefolder=basedir+'/savefigure/pca/'\n",
    "data=loadmat(basedir+datafolder+'CleanTuv/STRAITOFGEORGIAARRAY_20201201T000000.000Z_20201207T230000.000Z-Totals_Clean.mat')\n",
    "#data=data[0][0]"
   ]
  },
  {
   "cell_type": "code",
   "execution_count": 7,
   "metadata": {},
   "outputs": [],
   "source": [
    "u=[]\n",
    "v=[]\n",
    "date=[]\n",
    "\n",
    "num_files=168\n",
    "for i in range(num_files):\n",
    "    \n",
    "    datai=data['Totals'][i][0]\n",
    "    ui=datai['U']\n",
    "    vi=datai['V']\n",
    "    lonlat=datai['LonLat']\n",
    "    \n",
    "    timestamp=datai['TimeStamp'][0][0]\n",
    "    datei=str(mdates.num2date(timestamp-1))[0:16]  \n",
    "    \n",
    "    u=np.append(u,ui)\n",
    "    v=np.append(v,vi)\n",
    "    date=np.append(date,datei)\n",
    "\n",
    "lon=lonlat[:,0]\n",
    "lat=lonlat[:,1]"
   ]
  },
  {
   "cell_type": "code",
   "execution_count": 8,
   "metadata": {},
   "outputs": [],
   "source": [
    "u_df=pd.DataFrame(u.reshape(num_files,len(u)//num_files).T,index=[lon,lat],columns=date)\n",
    "v_df=pd.DataFrame(v.reshape(num_files,len(u)//num_files).T,index=[lon,lat],columns=date)"
   ]
  },
  {
   "cell_type": "code",
   "execution_count": 9,
   "metadata": {},
   "outputs": [],
   "source": [
    "max_index=373;\n",
    "u_select=u_df.iloc[max_index]\n",
    "v_select=v_df.iloc[max_index]\n",
    "\n",
    "X=pd.DataFrame({'u':u_select,'v':v_select}).values\n",
    "X_meaned=X-np.mean(X,axis=0)"
   ]
  },
  {
   "cell_type": "markdown",
   "metadata": {},
   "source": [
    "# Step1: Subtract the mean of each value"
   ]
  },
  {
   "cell_type": "code",
   "execution_count": 142,
   "metadata": {},
   "outputs": [
    {
     "data": {
      "image/png": "[encoded data removed]",
      "text/plain": [
       "<Figure size 504x432 with 1 Axes>"
      ]
     },
     "metadata": {},
     "output_type": "display_data"
    }
   ],
   "source": [
    "fig,axs=plt.subplots(1,1,sharex=True,sharey=True,figsize=(7,6))\n",
    "ax=[]\n",
    "plt.scatter(X[:,0],X[:,1],alpha=0.2,c='blue',label='UV_raw')\n",
    "\n",
    "plt.scatter(X_meaned[:,0],X_meaned[:,1],c='blue',label='UV_meaned')\n",
    "\n",
    "u_mean=np.mean(X,axis=0)[0]\n",
    "v_mean=np.mean(X,axis=0)[1]\n",
    "\n",
    "\n",
    "plt.scatter(0,0,c='red',marker='*',label='Center_UV_meaned',s=100)\n",
    "plt.scatter(u_mean,v_mean,c='red',marker='*',alpha=0.2,label='Center_UV_raw',s=100)\n",
    "\n",
    "\n",
    "\n",
    "plt.axvline(x = 0,color='black',alpha=0.3)\n",
    "plt.axhline(y = 0,color='black',alpha=0.3)\n",
    "\n",
    "plt.axvline(x = u_mean,color='black',alpha=0.3)\n",
    "plt.axhline(y = v_mean,color='black',alpha=0.3)\n",
    "\n",
    "\n",
    "plt.xlabel('U[cm/s]')\n",
    "plt.ylabel('V[cm/s]')\n",
    "\n",
    "plt.legend()\n",
    "plt.axis('equal');\n",
    "\n",
    "\n",
    "if not os.path.exists(savefigurefolder):\n",
    "        os.makedirs(savefigurefolder)\n",
    "plt.savefig(os.path.join(savefigurefolder,'Scatter'),format='png',dpi=300)#\n",
    "\n",
    "\n"
   ]
  },
  {
   "cell_type": "markdown",
   "metadata": {},
   "source": [
    "# Step2: Calculate the covariance matrix"
   ]
  },
  {
   "cell_type": "code",
   "execution_count": 50,
   "metadata": {},
   "outputs": [
    {
     "data": {
      "text/plain": [
       "array([[ 1421.66807372,  -979.16426684],\n",
       "       [ -979.16426684,   923.47098422]])"
      ]
     },
     "execution_count": 50,
     "metadata": {},
     "output_type": "execute_result"
    }
   ],
   "source": [
    "#calculate the covariance matrix\n",
    "cov_mat=np.cov(X_meaned,rowvar=False)\n",
    "cov_mat"
   ]
  },
  {
   "cell_type": "markdown",
   "metadata": {},
   "source": [
    "# Step3: Compute the eigenvalues and eigenvectors: \n",
    "Eigenvalues represent variance\n",
    "\n",
    "eigenvectors are normablized direction"
   ]
  },
  {
   "cell_type": "code",
   "execution_count": 51,
   "metadata": {},
   "outputs": [],
   "source": [
    "#Calculating Eigenvalues and Eigenvectors of the covariance matrix\n",
    "eigen_values , eigen_vectors = np.linalg.eigh(cov_mat)"
   ]
  },
  {
   "cell_type": "code",
   "execution_count": 54,
   "metadata": {},
   "outputs": [
    {
     "data": {
      "text/plain": [
       "array([  162.2167458 ,  2182.92231214])"
      ]
     },
     "execution_count": 54,
     "metadata": {},
     "output_type": "execute_result"
    }
   ],
   "source": [
    "eigen_values "
   ]
  },
  {
   "cell_type": "code",
   "execution_count": 57,
   "metadata": {},
   "outputs": [
    {
     "data": {
      "text/plain": [
       "array([[-0.61378086, -0.78947644],\n",
       "       [-0.78947644,  0.61378086]])"
      ]
     },
     "execution_count": 57,
     "metadata": {},
     "output_type": "execute_result"
    }
   ],
   "source": [
    "eigen_vectors"
   ]
  },
  {
   "cell_type": "markdown",
   "metadata": {},
   "source": [
    "# Step4: Sort the eigenvalues and eigenvectors in descending order"
   ]
  },
  {
   "cell_type": "code",
   "execution_count": 64,
   "metadata": {},
   "outputs": [],
   "source": [
    "\n",
    "sorted_index=np.argsort(eigen_values)[::-1]\n",
    "sorted_eigenvalue = eigen_values[sorted_index]\n",
    "#similarly sort the eigenvectors \n",
    "sorted_eigenvectors = eigen_vectors[:,sorted_index]"
   ]
  },
  {
   "cell_type": "code",
   "execution_count": 123,
   "metadata": {},
   "outputs": [
    {
     "data": {
      "text/plain": [
       "array([ 2182.92231214,   162.2167458 ])"
      ]
     },
     "execution_count": 123,
     "metadata": {},
     "output_type": "execute_result"
    }
   ],
   "source": [
    "sorted_eigenvalue"
   ]
  },
  {
   "cell_type": "code",
   "execution_count": 65,
   "metadata": {},
   "outputs": [
    {
     "data": {
      "text/plain": [
       "array([[-0.78947644, -0.61378086],\n",
       "       [ 0.61378086, -0.78947644]])"
      ]
     },
     "execution_count": 65,
     "metadata": {},
     "output_type": "execute_result"
    }
   ],
   "source": [
    "sorted_eigenvectors"
   ]
  },
  {
   "cell_type": "code",
   "execution_count": 130,
   "metadata": {},
   "outputs": [
    {
     "data": {
      "text/plain": [
       "-37.863388883617453"
      ]
     },
     "execution_count": 130,
     "metadata": {},
     "output_type": "execute_result"
    }
   ],
   "source": [
    "np.arctan(pca.components_[0,1]/pca.components_[0,0])*180/np.pi"
   ]
  },
  {
   "cell_type": "code",
   "execution_count": 169,
   "metadata": {},
   "outputs": [
    {
     "data": {
      "text/plain": [
       "142.1366111300494"
      ]
     },
     "execution_count": 169,
     "metadata": {},
     "output_type": "execute_result"
    }
   ],
   "source": [
    "#angle can have a difference of 180 because PC1 PC2... does not have a direction.\n",
    "angle=np.arctan(0.61378086/(-0.78947644))*180/np.pi+180\n",
    "angle"
   ]
  },
  {
   "cell_type": "code",
   "execution_count": 77,
   "metadata": {},
   "outputs": [],
   "source": [
    "vector_pc1=sorted_eigenvectors[:,0]\n",
    "vector_pc2=sorted_eigenvectors[:,1]"
   ]
  },
  {
   "cell_type": "code",
   "execution_count": 147,
   "metadata": {},
   "outputs": [
    {
     "data": {
      "image/png": "[encoded data removed]",
      "text/plain": [
       "<Figure size 504x432 with 1 Axes>"
      ]
     },
     "metadata": {},
     "output_type": "display_data"
    }
   ],
   "source": [
    "n_std=1\n",
    "fig,axs=plt.subplots(1,1,sharex=True,sharey=True,figsize=(7,6))\n",
    "ax=[]\n",
    "\n",
    "plt.scatter(X_meaned[:,0],X_meaned[:,1],c='blue',label='UV_meaned')\n",
    "plt.axvline(x = 0,color='black',alpha=0.3)\n",
    "plt.axhline(y = 0,color='black',alpha=0.3)\n",
    "plt.scatter(0,0,c='red',marker='o',label='Center_UV_meaned',s=100)\n",
    "\n",
    "#arrow length are scaled by the eigenvalues which means variation\n",
    "\n",
    "p.arrow(0,0,vector_pc1[0]*np.sqrt(sorted_eigenvalue[0])*n_std,vector_pc1[1]*np.sqrt(sorted_eigenvalue[0])*n_std,color='red',head_width=2, head_length=3)\n",
    "p.arrow(0,0,vector_pc2[0]*np.sqrt(sorted_eigenvalue[1])*n_std,vector_pc2[1]*np.sqrt(sorted_eigenvalue[1])*n_std,color='red',head_width=2, head_length=3)\n",
    "\n",
    "plt.text(vector_pc1[0]*np.sqrt(sorted_eigenvalue[0])*n_std,vector_pc1[1]*np.sqrt(sorted_eigenvalue[0])*n_std,'PC1',fontsize=13)\n",
    "plt.text(vector_pc2[0]*np.sqrt(sorted_eigenvalue[1])*n_std,vector_pc2[1]*np.sqrt(sorted_eigenvalue[1])*n_std,'PC2',fontsize=13)\n",
    "plt.title('Scaled by '+str(n_std)+' sigma')\n",
    "\n",
    "if not os.path.exists(savefigurefolder):\n",
    "        os.makedirs(savefigurefolder)\n",
    "#plt.savefig(os.path.join(savefigurefolder,'PC_'+str(n_std)+'sigma'),format='png',dpi=300)#\n",
    "\n",
    "\n"
   ]
  },
  {
   "cell_type": "markdown",
   "metadata": {},
   "source": [
    "# Add ellipse\n",
    "\n",
    "Calculate ellipse major and minor axis, which are scaled by standard deviation (sqrt of eigenvalues)"
   ]
  },
  {
   "cell_type": "code",
   "execution_count": 159,
   "metadata": {},
   "outputs": [],
   "source": [
    "\n",
    "n_std=2\n",
    "ell_radius_x=np.sqrt((vector_pc1[0]*np.sqrt(sorted_eigenvalue[0])*n_std)**2+(vector_pc1[1]*np.sqrt(sorted_eigenvalue[0])*n_std)**2)\n",
    "ell_radius_y=np.sqrt((vector_pc2[0]*np.sqrt(sorted_eigenvalue[1])*n_std)**2+(vector_pc2[1]*np.sqrt(sorted_eigenvalue[1])*n_std)**2)"
   ]
  },
  {
   "cell_type": "code",
   "execution_count": 160,
   "metadata": {},
   "outputs": [],
   "source": [
    "xcenter=0\n",
    "ycenter=0"
   ]
  },
  {
   "cell_type": "code",
   "execution_count": 168,
   "metadata": {},
   "outputs": [
    {
     "data": {
      "image/png": "[encoded data removed]",
      "text/plain": [
       "<Figure size 432x432 with 1 Axes>"
      ]
     },
     "metadata": {},
     "output_type": "display_data"
    }
   ],
   "source": [
    "\n",
    "fig,axs=plt.subplots(1,1,sharex=True,sharey=True,figsize=(6,6))\n",
    "ax=axs\n",
    "plt.scatter(X_meaned[:,0],X_meaned[:,1],c='blue',label='UV_meaned')\n",
    "plt.axvline(x = 0,color='black',alpha=0.3)\n",
    "plt.axhline(y = 0,color='black',alpha=0.3)\n",
    "plt.scatter(0,0,c='red',marker='o',label='Center_UV_meaned',s=100)\n",
    "\n",
    "p.arrow(0,0,vector_pc1[0]*np.sqrt(sorted_eigenvalue[0])*n_std,vector_pc1[1]*np.sqrt(sorted_eigenvalue[0])*n_std,color='red',head_width=2, head_length=2)\n",
    "p.arrow(0,0,vector_pc2[0]*np.sqrt(sorted_eigenvalue[1])*n_std,vector_pc2[1]*np.sqrt(sorted_eigenvalue[1])*n_std,color='red',head_width=2, head_length=2)\n",
    "\n",
    "plt.text(vector_pc1[0]*np.sqrt(sorted_eigenvalue[0])*n_std,vector_pc1[1]*np.sqrt(sorted_eigenvalue[0])*n_std,'PC1',fontsize=13)\n",
    "plt.text(vector_pc2[0]*np.sqrt(sorted_eigenvalue[1])*n_std,vector_pc2[1]*np.sqrt(sorted_eigenvalue[1])*n_std,'PC2',fontsize=13)\n",
    "\n",
    "e = Ellipse(xy = (xcenter,ycenter), width = ell_radius_x * 2, height =ell_radius_y * 2, angle=angle,\n",
    "           edgecolor='blue',facecolor='none',joinstyle='bevel',\n",
    "                     linewidth=1)\n",
    "\n",
    "ax.add_artist(e)\n",
    "\n",
    "\n",
    "ax.set_xlabel('U_meaned [cm/s]')\n",
    "ax.set_ylabel('V_meaned [cm/s]')\n",
    "\n",
    "ax.set_title('One grid point example ('+date[0]+' to  '+date[-1]+')');\n",
    "\n",
    "plt.axis('equal');\n",
    "\n",
    "ax.set_xlim([-100,100])\n",
    "ax.set_ylim([-100,100])\n",
    "if not os.path.exists(savefigurefolder):\n",
    "        os.makedirs(savefigurefolder)\n",
    "    #savefilename='Example_Ellipse'+'.png'\n",
    "plt.savefig(os.path.join(savefigurefolder,'Example_Ellipse'),format='png',dpi=300)#\n",
    "\n",
    "\n"
   ]
  }
 ],
 "metadata": {
  "anaconda-cloud": {},
  "kernelspec": {
   "display_name": "Python 3",
   "language": "python",
   "name": "python3"
  },
  "language_info": {
   "codemirror_mode": {
    "name": "ipython",
    "version": 3
   },
   "file_extension": ".py",
   "mimetype": "text/x-python",
   "name": "python",
   "nbconvert_exporter": "python",
   "pygments_lexer": "ipython3",
   "version": "3.6.5"
  }
 },
 "nbformat": 4,
 "nbformat_minor": 1
}
